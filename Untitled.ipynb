{
 "cells": [
  {
   "cell_type": "code",
   "execution_count": 1,
   "metadata": {},
   "outputs": [
    {
     "name": "stdout",
     "output_type": "stream",
     "text": [
      "/opt/pyenv/shims/python\n"
     ]
    }
   ],
   "source": [
    "!which python"
   ]
  },
  {
   "cell_type": "code",
   "execution_count": 5,
   "metadata": {},
   "outputs": [
    {
     "name": "stdout",
     "output_type": "stream",
     "text": [
      "Python 3.6.9 (2ad108f17bdb, Apr 07 2020, 02:59:05)\n",
      "[PyPy 7.3.1 with GCC 7.3.1 20180303 (Red Hat 7.3.1-5)]\n"
     ]
    }
   ],
   "source": [
    "!python --version"
   ]
  },
  {
   "cell_type": "code",
   "execution_count": 3,
   "metadata": {},
   "outputs": [
    {
     "name": "stdout",
     "output_type": "stream",
     "text": [
      "  system\n",
      "* 2.7.18 (set by /opt/pyenv/version)\n",
      "* 3.6.3 (set by /opt/pyenv/version)\n",
      "* 3.9.0 (set by /opt/pyenv/version)\n",
      "* pypy2.7-7.3.1 (set by /opt/pyenv/version)\n",
      "* pypy3.6-7.3.1 (set by /opt/pyenv/version)\n"
     ]
    }
   ],
   "source": [
    "!pyenv versions"
   ]
  },
  {
   "cell_type": "code",
   "execution_count": 4,
   "metadata": {},
   "outputs": [],
   "source": [
    "!pyenv local pypy3.6-7.3.1"
   ]
  },
  {
   "cell_type": "code",
   "execution_count": 6,
   "metadata": {},
   "outputs": [
    {
     "name": "stdout",
     "output_type": "stream",
     "text": [
      "Available kernels:\n",
      "  pypy3      /root/.local/share/jupyter/kernels/pypy3\n",
      "  bash       /usr/local/share/jupyter/kernels/bash\n",
      "  python3    /usr/local/share/jupyter/kernels/python3\n"
     ]
    }
   ],
   "source": [
    "!jupyter kernelspec list"
   ]
  },
  {
   "cell_type": "code",
   "execution_count": 7,
   "metadata": {},
   "outputs": [
    {
     "name": "stdout",
     "output_type": "stream",
     "text": [
      "/opt/pyenv/versions/pypy3.6-7.3.1/bin/python: No module named ipykernel\n"
     ]
    }
   ],
   "source": [
    "!python -m ipykernel install --user"
   ]
  },
  {
   "cell_type": "code",
   "execution_count": 1,
   "metadata": {},
   "outputs": [
    {
     "name": "stdout",
     "output_type": "stream",
     "text": [
      "/opt/pyenv/shims/python\n"
     ]
    }
   ],
   "source": [
    "!which python\n"
   ]
  },
  {
   "cell_type": "code",
   "execution_count": 2,
   "metadata": {},
   "outputs": [
    {
     "name": "stdout",
     "output_type": "stream",
     "text": [
      "Python 3.6.9 (2ad108f17bdb, Apr 07 2020, 02:59:05)\n",
      "[PyPy 7.3.1 with GCC 7.3.1 20180303 (Red Hat 7.3.1-5)]\n"
     ]
    }
   ],
   "source": [
    "!python --version"
   ]
  },
  {
   "cell_type": "code",
   "execution_count": 3,
   "metadata": {},
   "outputs": [
    {
     "name": "stdout",
     "output_type": "stream",
     "text": [
      "/opt/pyenv/versions/pypy3.6-7.3.1/bin/pypy3: No module named ipykernel\n"
     ]
    }
   ],
   "source": [
    "!pypy3 -m ipykernel install --user --name pypy3 --display-name \"PyPy3\" "
   ]
  },
  {
   "cell_type": "code",
   "execution_count": 4,
   "metadata": {},
   "outputs": [
    {
     "name": "stdout",
     "output_type": "stream",
     "text": [
      "Collecting ipykernel\n",
      "  Downloading ipykernel-5.4.0-py3-none-any.whl (119 kB)\n",
      "\u001b[K     |████████████████████████████████| 119 kB 1.9 MB/s eta 0:00:01\n",
      "\u001b[?25hCollecting ipython>=5.0.0\n",
      "  Downloading ipython-7.16.1-py3-none-any.whl (785 kB)\n",
      "\u001b[K     |████████████████████████████████| 785 kB 3.7 MB/s eta 0:00:01\n",
      "\u001b[?25hCollecting traitlets>=4.1.0\n",
      "  Downloading traitlets-4.3.3-py2.py3-none-any.whl (75 kB)\n",
      "\u001b[K     |████████████████████████████████| 75 kB 2.7 MB/s  eta 0:00:01\n",
      "\u001b[?25hCollecting jupyter-client\n",
      "  Using cached jupyter_client-6.1.7-py3-none-any.whl (108 kB)\n",
      "Collecting tornado>=4.2\n",
      "  Downloading tornado-6.1.tar.gz (497 kB)\n",
      "\u001b[K     |████████████████████████████████| 497 kB 11.5 MB/s eta 0:00:01\n",
      "\u001b[?25hRequirement already satisfied: setuptools>=18.5 in /opt/pyenv/versions/pypy3.6-7.3.1/site-packages (from ipython>=5.0.0->ipykernel) (44.0.0)\n",
      "Collecting jedi>=0.10\n",
      "  Using cached jedi-0.17.2-py2.py3-none-any.whl (1.4 MB)\n",
      "Collecting decorator\n",
      "  Using cached decorator-4.4.2-py2.py3-none-any.whl (9.2 kB)\n",
      "Collecting pickleshare\n",
      "  Using cached pickleshare-0.7.5-py2.py3-none-any.whl (6.9 kB)\n",
      "Collecting prompt-toolkit!=3.0.0,!=3.0.1,<3.1.0,>=2.0.0\n",
      "  Using cached prompt_toolkit-3.0.8-py3-none-any.whl (355 kB)\n",
      "Collecting pygments\n",
      "  Using cached Pygments-2.7.3-py3-none-any.whl (950 kB)\n",
      "Collecting backcall\n",
      "  Using cached backcall-0.2.0-py2.py3-none-any.whl (11 kB)\n",
      "Collecting pexpect; sys_platform != \"win32\"\n",
      "  Using cached pexpect-4.8.0-py2.py3-none-any.whl (59 kB)\n",
      "Collecting ipython-genutils\n",
      "  Using cached ipython_genutils-0.2.0-py2.py3-none-any.whl (26 kB)\n",
      "Collecting six\n",
      "  Using cached six-1.15.0-py2.py3-none-any.whl (10 kB)\n",
      "Collecting jupyter-core>=4.6.0\n",
      "  Using cached jupyter_core-4.7.0-py3-none-any.whl (82 kB)\n",
      "Collecting pyzmq>=13\n",
      "  Downloading pyzmq-20.0.0.tar.gz (1.2 MB)\n",
      "\u001b[K     |████████████████████████████████| 1.2 MB 7.6 MB/s eta 0:00:01\n",
      "\u001b[?25hCollecting python-dateutil>=2.1\n",
      "  Using cached python_dateutil-2.8.1-py2.py3-none-any.whl (227 kB)\n",
      "Collecting parso<0.8.0,>=0.7.0\n",
      "  Using cached parso-0.7.1-py2.py3-none-any.whl (109 kB)\n",
      "Collecting wcwidth\n",
      "  Using cached wcwidth-0.2.5-py2.py3-none-any.whl (30 kB)\n",
      "Collecting ptyprocess>=0.5\n",
      "  Using cached ptyprocess-0.6.0-py2.py3-none-any.whl (39 kB)\n",
      "Collecting py\n",
      "  Downloading py-1.9.0-py2.py3-none-any.whl (99 kB)\n",
      "\u001b[K     |████████████████████████████████| 99 kB 5.0 MB/s  eta 0:00:01\n",
      "\u001b[?25hRequirement already satisfied: cffi in /opt/pyenv/versions/pypy3.6-7.3.1/lib_pypy (from pyzmq>=13->jupyter-client->ipykernel) (1.14.0)\n",
      "Installing collected packages: parso, jedi, decorator, pickleshare, ipython-genutils, six, traitlets, wcwidth, prompt-toolkit, pygments, backcall, ptyprocess, pexpect, ipython, jupyter-core, py, pyzmq, python-dateutil, tornado, jupyter-client, ipykernel\n",
      "    Running setup.py install for pyzmq ... \u001b[?25ldone\n",
      "\u001b[?25h    Running setup.py install for tornado ... \u001b[?25ldone\n",
      "\u001b[?25hSuccessfully installed backcall-0.2.0 decorator-4.4.2 ipykernel-5.4.0 ipython-7.16.1 ipython-genutils-0.2.0 jedi-0.17.2 jupyter-client-6.1.7 jupyter-core-4.7.0 parso-0.7.1 pexpect-4.8.0 pickleshare-0.7.5 prompt-toolkit-3.0.8 ptyprocess-0.6.0 py-1.9.0 pygments-2.7.3 python-dateutil-2.8.1 pyzmq-20.0.0 six-1.15.0 tornado-6.1 traitlets-4.3.3 wcwidth-0.2.5\n",
      "\u001b[33mWARNING: You are using pip version 20.0.2; however, version 20.3.1 is available.\n",
      "You should consider upgrading via the '/opt/pyenv/versions/pypy3.6-7.3.1/bin/pypy3 -m pip install --upgrade pip' command.\u001b[0m\n"
     ]
    }
   ],
   "source": [
    "!pypy3 -m pip install ipykernel "
   ]
  },
  {
   "cell_type": "code",
   "execution_count": 5,
   "metadata": {},
   "outputs": [
    {
     "name": "stdout",
     "output_type": "stream",
     "text": [
      "Installed kernelspec pypy3 in /root/.local/share/jupyter/kernels/pypy3\n"
     ]
    }
   ],
   "source": [
    "!pypy3 -m ipykernel install --user --name pypy3 --display-name \"PyPy3\""
   ]
  },
  {
   "cell_type": "code",
   "execution_count": 15,
   "metadata": {},
   "outputs": [
    {
     "name": "stdout",
     "output_type": "stream",
     "text": [
      "usage: /opt/pyenv/versions/pypy3.6-7.3.1/bin/pypy3 [option] ... [-c cmd | -m mod | file | -] [arg] ...\n",
      "Options and arguments (and corresponding environment variables):\n",
      "-b     : issue warnings about str(bytes_instance), str(bytearray_instance)\n",
      "         and comparing bytes/bytearray with str. (-bb: issue errors)\n",
      "-B     : don't write .py[co] files on import; also PYTHONDONTWRITEBYTECODE=x\n",
      "-c cmd : program passed in as string (terminates option list)\n",
      "-d     : debug output from parser; also PYTHONDEBUG=x\n",
      "-E     : ignore PYTHON* environment variables (such as PYTHONPATH)\n",
      "-h     : print this help message and exit (also --help)\n",
      "-i     : inspect interactively after running script; forces a prompt even\n",
      "         if stdin does not appear to be a terminal; also PYTHONINSPECT=x\n",
      "-I     : isolate Python from the user's environment (implies -E and -s)\n",
      "-m mod : run library module as a script (terminates option list)\n",
      "-O     : remove assert and __debug__-dependent statements; add .opt-1 before\n",
      "         .pyc extension; also PYTHONOPTIMIZE=x\n",
      "-OO    : do -O changes and also discard docstrings; add .opt-2 before\n",
      "         .pyc extension\n",
      "-q     : don't print version and copyright messages on interactive startup\n",
      "-s     : don't add user site directory to sys.path; also PYTHONNOUSERSITE\n",
      "-S     : don't imply 'import site' on initialization\n",
      "-u     : force the binary I/O layers of stdout and stderr to be unbuffered.\n",
      "         stdin is always buffered. the text I/O layer will still be\n",
      "         line-buffered. see also PYTHONUNBUFFERED=x\n",
      "-v     : verbose (trace import statements); also PYTHONVERBOSE=x\n",
      "         can be supplied multiple times to increase verbosity\n",
      "-V     : print the Python version number and exit (also --version)\n",
      "-W arg : warning control; arg is action:message:category:module:lineno\n",
      "         also PYTHONWARNINGS=arg\n",
      "-X opt : set implementation-specific option\n",
      "file   : program read from script file\n",
      "-      : program read from stdin (default; interactive mode if a tty)\n",
      "arg ...: arguments passed to program in sys.argv[1:]\n",
      "PyPy options and arguments:\n",
      "--info : print translation information about this PyPy executable\n",
      "-X faulthandler: attempt to display tracebacks when PyPy crashes\n",
      "--jit options: advanced JIT options: try 'off' or 'help'\n",
      "\n",
      "Other environment variables:\n",
      "PYTHONSTARTUP: file executed on interactive startup (no default)\n",
      "PYTHONPATH   : ':'-separated list of directories prefixed to the\n",
      "               default module search path.  The result is sys.path.\n",
      "PYTHONCASEOK : ignore case in 'import' statements (Windows).\n",
      "PYTHONIOENCODING: Encoding[:errors] used for stdin/stdout/stderr.\n",
      "PYPY_IRC_TOPIC: if set to a non-empty value, print a random #pypy IRC\n",
      "               topic at startup of interactive mode.\n",
      "PYPYLOG: If set to a non-empty value, enable logging.\n"
     ]
    }
   ],
   "source": [
    "!pypy3 -h"
   ]
  },
  {
   "cell_type": "code",
   "execution_count": 21,
   "metadata": {},
   "outputs": [
    {
     "name": "stdout",
     "output_type": "stream",
     "text": [
      "Requirement already satisfied: numpy in /opt/pyenv/versions/pypy3.6-7.3.1/site-packages (1.19.4)\n",
      "\u001b[33mWARNING: You are using pip version 20.0.2; however, version 20.3.1 is available.\n",
      "You should consider upgrading via the '/opt/pyenv/versions/pypy3.6-7.3.1/bin/pypy3 -m pip install --upgrade pip' command.\u001b[0m\n"
     ]
    }
   ],
   "source": [
    "!pypy3 -m pip install numpy"
   ]
  },
  {
   "cell_type": "code",
   "execution_count": 16,
   "metadata": {},
   "outputs": [
    {
     "name": "stdout",
     "output_type": "stream",
     "text": [
      "/opt/pyenv/shims/python\n"
     ]
    }
   ],
   "source": [
    "!which python"
   ]
  },
  {
   "cell_type": "code",
   "execution_count": 1,
   "metadata": {},
   "outputs": [
    {
     "name": "stdout",
     "output_type": "stream",
     "text": [
      "Python 3.6.9 (2ad108f17bdb, Apr 07 2020, 02:59:05)\n",
      "[PyPy 7.3.1 with GCC 7.3.1 20180303 (Red Hat 7.3.1-5)]\n"
     ]
    }
   ],
   "source": [
    "!python --version"
   ]
  },
  {
   "cell_type": "code",
   "execution_count": 2,
   "metadata": {},
   "outputs": [],
   "source": [
    "import numpy as np"
   ]
  },
  {
   "cell_type": "code",
   "execution_count": null,
   "metadata": {},
   "outputs": [],
   "source": []
  }
 ],
 "metadata": {
  "kernelspec": {
   "display_name": "PyPy3",
   "language": "python",
   "name": "pypy3"
  },
  "language_info": {
   "codemirror_mode": {
    "name": "ipython",
    "version": 3
   },
   "file_extension": ".py",
   "mimetype": "text/x-python",
   "name": "python",
   "nbconvert_exporter": "python",
   "pygments_lexer": "ipython3",
   "version": "3.6.9"
  }
 },
 "nbformat": 4,
 "nbformat_minor": 4
}
