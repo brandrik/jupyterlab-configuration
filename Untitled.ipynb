{
 "cells": [
  {
   "cell_type": "code",
   "execution_count": 1,
   "metadata": {},
   "outputs": [
    {
     "name": "stdout",
     "output_type": "stream",
     "text": [
      "/opt/pyenv/shims/python\n"
     ]
    }
   ],
   "source": [
    "!which python"
   ]
  },
  {
   "cell_type": "code",
   "execution_count": 5,
   "metadata": {},
   "outputs": [
    {
     "name": "stdout",
     "output_type": "stream",
     "text": [
      "Python 3.6.9 (2ad108f17bdb, Apr 07 2020, 02:59:05)\n",
      "[PyPy 7.3.1 with GCC 7.3.1 20180303 (Red Hat 7.3.1-5)]\n"
     ]
    }
   ],
   "source": [
    "!python --version"
   ]
  },
  {
   "cell_type": "code",
   "execution_count": 3,
   "metadata": {},
   "outputs": [
    {
     "name": "stdout",
     "output_type": "stream",
     "text": [
      "  system\n",
      "* 2.7.18 (set by /opt/pyenv/version)\n",
      "* 3.6.3 (set by /opt/pyenv/version)\n",
      "* 3.9.0 (set by /opt/pyenv/version)\n",
      "* pypy2.7-7.3.1 (set by /opt/pyenv/version)\n",
      "* pypy3.6-7.3.1 (set by /opt/pyenv/version)\n"
     ]
    }
   ],
   "source": [
    "!pyenv versions"
   ]
  },
  {
   "cell_type": "code",
   "execution_count": 4,
   "metadata": {},
   "outputs": [],
   "source": [
    "!pyenv local pypy3.6-7.3.1"
   ]
  },
  {
   "cell_type": "code",
   "execution_count": 6,
   "metadata": {},
   "outputs": [
    {
     "name": "stdout",
     "output_type": "stream",
     "text": [
      "Available kernels:\n",
      "  bash       /usr/local/share/jupyter/kernels/bash\n",
      "  python3    /usr/local/share/jupyter/kernels/python3\n"
     ]
    }
   ],
   "source": [
    "!jupyter kernelspec list"
   ]
  },
  {
   "cell_type": "code",
   "execution_count": 7,
   "metadata": {},
   "outputs": [
    {
     "name": "stdout",
     "output_type": "stream",
     "text": [
      "/opt/pyenv/versions/pypy3.6-7.3.1/bin/python: No module named ipykernel\n"
     ]
    }
   ],
   "source": [
    "!python -m ipykernel install --user"
   ]
  },
  {
   "cell_type": "code",
   "execution_count": null,
   "metadata": {},
   "outputs": [],
   "source": []
  }
 ],
 "metadata": {
  "kernelspec": {
   "display_name": "Python 3",
   "language": "python",
   "name": "python3"
  },
  "language_info": {
   "codemirror_mode": {
    "name": "ipython",
    "version": 3
   },
   "file_extension": ".py",
   "mimetype": "text/x-python",
   "name": "python",
   "nbconvert_exporter": "python",
   "pygments_lexer": "ipython3",
   "version": "3.9.0"
  }
 },
 "nbformat": 4,
 "nbformat_minor": 4
}
